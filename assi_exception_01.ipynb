{
 "cells": [
  {
   "cell_type": "markdown",
   "id": "fe10d847-a503-458d-947e-99be470acc67",
   "metadata": {},
   "source": [
    "### Q1. What is an Exception in python? Write the difference between Exceptions and syntax errors."
   ]
  },
  {
   "cell_type": "markdown",
   "id": "40194304-28fe-4609-94f6-0d005b0bd266",
   "metadata": {},
   "source": [
    "#### An exception in Python is an error that occurs during the execution of a program. When a Python script encounters a situation it cannot handle, it raises an exception. This could be due to a variety of reasons, such as trying to divide by zero, accessing an element that is out of bounds in a list, or trying to open a file that doesn't exist."
   ]
  },
  {
   "cell_type": "markdown",
   "id": "2ef87fe0-2c32-4d07-82ee-9f87031d6085",
   "metadata": {},
   "source": [
    "#### Syntax error refers to an error in the syntax or structure of the code, meaning that the code is not written according to the rules of the programming language. These errors are usually caught by the compiler or interpreter before the code is executed, and they prevent the code from being compiled or run. For example, a missing semicolon at the end of a statement in JavaScript or a missing parenthesis in a function call in Python would result in a syntax error.  On the other hand, an exception refers to an error that occurs during the execution of a program. These errors are not caught by the compiler or interpreter and can cause the program to terminate or behave unexpectedly. Exceptions can occur due to a variety of reasons, such as division by zero, trying to access an array element that does not exist, or attempting to open a file that does not exist.\n"
   ]
  },
  {
   "cell_type": "markdown",
   "id": "b644299a-a0d0-4dff-8562-b016788cbba3",
   "metadata": {},
   "source": [
    "### Q. what happens when an exception is not handled? explain with an example\n",
    "\n"
   ]
  },
  {
   "cell_type": "markdown",
   "id": "7676c02c-a310-49dd-a33f-7c40c7fe2b32",
   "metadata": {},
   "source": [
    "### When an exception is not handled in Python, the program terminates abruptly, and an error message (known as a traceback) is displayed. The traceback shows the type of exception, the line of code where the exception occurred, and the sequence of function calls that led to the exception.\n",
    "\n"
   ]
  },
  {
   "cell_type": "code",
   "execution_count": 1,
   "id": "2d496076-48bf-41df-9f4d-49053d618d22",
   "metadata": {},
   "outputs": [
    {
     "name": "stdout",
     "output_type": "stream",
     "text": [
      "Before the exception\n"
     ]
    },
    {
     "ename": "IndexError",
     "evalue": "list index out of range",
     "output_type": "error",
     "traceback": [
      "\u001b[0;31m---------------------------------------------------------------------------\u001b[0m",
      "\u001b[0;31mIndexError\u001b[0m                                Traceback (most recent call last)",
      "Cell \u001b[0;32mIn[1], line 3\u001b[0m\n\u001b[1;32m      1\u001b[0m numbers \u001b[38;5;241m=\u001b[39m [\u001b[38;5;241m1\u001b[39m, \u001b[38;5;241m2\u001b[39m, \u001b[38;5;241m3\u001b[39m]\n\u001b[1;32m      2\u001b[0m \u001b[38;5;28mprint\u001b[39m(\u001b[38;5;124m\"\u001b[39m\u001b[38;5;124mBefore the exception\u001b[39m\u001b[38;5;124m\"\u001b[39m)\n\u001b[0;32m----> 3\u001b[0m \u001b[38;5;28mprint\u001b[39m(\u001b[43mnumbers\u001b[49m\u001b[43m[\u001b[49m\u001b[38;5;241;43m5\u001b[39;49m\u001b[43m]\u001b[49m) \n\u001b[1;32m      4\u001b[0m \u001b[38;5;28mprint\u001b[39m(\u001b[38;5;124m\"\u001b[39m\u001b[38;5;124mThis line will not be executed\u001b[39m\u001b[38;5;124m\"\u001b[39m)\n",
      "\u001b[0;31mIndexError\u001b[0m: list index out of range"
     ]
    }
   ],
   "source": [
    "numbers = [1, 2, 3]\n",
    "print(\"Before the exception\")\n",
    "print(numbers[5]) \n",
    "print(\"This line will not be executed\")\n"
   ]
  },
  {
   "cell_type": "markdown",
   "id": "8f618baa-30cb-4c28-8301-be0fa5497341",
   "metadata": {},
   "source": [
    "### Q.3 which python statements are used to catch and handle exception? explain with an example.\n",
    "\n"
   ]
  },
  {
   "cell_type": "markdown",
   "id": "edc61fcf-f9ca-41e2-9dce-3bbbfd403da8",
   "metadata": {},
   "source": [
    "#### In Python, exceptions are caught and handled using the try, except, else, and finally statements. These statements allow you to manage exceptions gracefully and ensure that the program can continue running or terminate properly, depending on the situation.\n",
    "\n"
   ]
  },
  {
   "cell_type": "code",
   "execution_count": null,
   "id": "615810c4-b96f-4944-86be-ac1609ac4b87",
   "metadata": {},
   "outputs": [],
   "source": [
    "try:\n",
    "    numerator = 10\n",
    "    denominator = 0\n",
    "    result = numerator / denominator  \n",
    "except ZeroDivisionError as e:\n",
    "    print(\"Error: Cannot divide by zero!\")\n",
    "    print(f\"Exception message: {e}\")\n",
    "except TypeError as e:\n",
    "    print(\"Error: Unsupported operation type!\")\n",
    "    print(f\"Exception message: {e}\")\n",
    "else:\n",
    "    print(f\"The result is {result}\")\n",
    "finally:\n",
    "    print(\"Execution of the 'finally' block.\")\n"
   ]
  },
  {
   "cell_type": "markdown",
   "id": "4089ef78-ec47-4748-8b6c-dd7f09a6e37c",
   "metadata": {},
   "source": [
    "### Q.4"
   ]
  },
  {
   "cell_type": "code",
   "execution_count": null,
   "id": "c781b6fc-2241-459a-8ba9-424b8fd96f74",
   "metadata": {},
   "outputs": [],
   "source": [
    "try:\n",
    "    number = int(input(\"Enter a number: \"))\n",
    "    result = 100 / number\n",
    "\n",
    "except ZeroDivisionError:\n",
    "    print(\"Error: Cannot divide by zero!\")\n",
    "\n",
    "except ValueError:\n",
    "    print(\"Error: Invalid input! Please enter a number.\")\n",
    "\n",
    "else:\n",
    "    print(f\"The result of division is: {result}\")\n"
   ]
  },
  {
   "cell_type": "code",
   "execution_count": null,
   "id": "fd535a8d-28ad-4e5c-83c1-d122cd9b8efc",
   "metadata": {},
   "outputs": [],
   "source": [
    "try:\n",
    "    file = open(\"example.txt\", \"r\")\n",
    "    content = file.read()\n",
    "    print(content)\n",
    "\n",
    "except FileNotFoundError:\n",
    "    print(\"Error: The file was not found!\")\n",
    "\n",
    "finally:\n",
    "    print(\"Closing the file.\")\n",
    "    file.close()\n"
   ]
  },
  {
   "cell_type": "code",
   "execution_count": null,
   "id": "db52c720-b7e7-41f5-b8f6-664d34b96fdc",
   "metadata": {},
   "outputs": [],
   "source": [
    "def check_age(age):\n",
    "    if age < 18:\n",
    "        raise ValueError(\"Age must be at least 18.\")\n",
    "    else:\n",
    "        print(\"Access granted.\")\n",
    "\n",
    "try:\n",
    "    user_age = int(input(\"Enter your age: \"))\n",
    "    check_age(user_age)\n",
    "\n",
    "except ValueError as ve:\n",
    "    print(f\"Error: {ve}\")\n"
   ]
  },
  {
   "cell_type": "markdown",
   "id": "2d3c2108-92a5-4b09-8338-a3cd78fe29eb",
   "metadata": {},
   "source": [
    "### Q.5"
   ]
  },
  {
   "cell_type": "markdown",
   "id": "b89e68ab-fdbf-4a84-b4a1-cb5695ff89b4",
   "metadata": {},
   "source": [
    "#### Custom exceptions in Python are user-defined exceptions that allow developers to create specific error types that are meaningful to their application or domain. While Python provides many built-in exceptions (like ValueError, TypeError, ZeroDivisionError, etc.), sometimes these are not sufficient to accurately describe an error condition in your program. This is where custom exceptions come into play.\n",
    "\n"
   ]
  },
  {
   "cell_type": "markdown",
   "id": "d9db5c1e-3e9d-4265-b8b0-3c82cd84caef",
   "metadata": {},
   "source": [
    "#### Why Do We Need Custom Exceptions? Specificity: Custom exceptions allow you to signal specific errors that are unique to your application. For example, you might want to raise an exception if a user tries to withdraw more money than is available in their bank account. Readability: They make your code more readable and understandable. Instead of raising a generic exception, you can raise a custom exception that describes exactly what went wrong. Error Handling: They allow you to handle different types of errors in different ways, making your error-handling code more precise and effective.Maintainability: Custom exceptions make it easier to manage and debug errors, especially in large applications, by providing clear and specific error messages.\n",
    "\n"
   ]
  },
  {
   "cell_type": "code",
   "execution_count": null,
   "id": "58185040-2ed8-44e5-a74b-8323787f59f7",
   "metadata": {},
   "outputs": [],
   "source": [
    "class InsufficientFunds(Exception):\n",
    "    def __init__(self, balance, amount):\n",
    "        self.balance = balance\n",
    "        self.amount = amount\n",
    "        super().__init__(f\"Attempted to withdraw {amount}, but only {balance} is available.\")\n",
    "\n",
    "class BankAccount:\n",
    "    def __init__(self, balance):\n",
    "        self.balance = balance\n",
    "\n",
    "    def withdraw(self, amount):\n",
    "        if amount > self.balance:\n",
    "            raise InsufficientFunds(self.balance, amount)\n",
    "        self.balance -= amount\n",
    "        return self.balance\n",
    "\n",
    "    account = BankAccount(100)  \n",
    "    account.withdraw(150)      \n",
    "except InsufficientFunds as e:\n",
    "    print(e)  \n"
   ]
  },
  {
   "cell_type": "markdown",
   "id": "be1befd3-5674-4c9e-afe1-8bcf868196f6",
   "metadata": {},
   "source": [
    "### Q.6"
   ]
  },
  {
   "cell_type": "code",
   "execution_count": null,
   "id": "54b9acdd-6d0f-40b1-b46b-781ba77c1541",
   "metadata": {},
   "outputs": [],
   "source": []
  }
 ],
 "metadata": {
  "kernelspec": {
   "display_name": "Python 3 (ipykernel)",
   "language": "python",
   "name": "python3"
  },
  "language_info": {
   "codemirror_mode": {
    "name": "ipython",
    "version": 3
   },
   "file_extension": ".py",
   "mimetype": "text/x-python",
   "name": "python",
   "nbconvert_exporter": "python",
   "pygments_lexer": "ipython3",
   "version": "3.10.8"
  }
 },
 "nbformat": 4,
 "nbformat_minor": 5
}
